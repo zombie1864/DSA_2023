{
 "cells": [
  {
   "attachments": {},
   "cell_type": "markdown",
   "metadata": {},
   "source": [
    "$$\n",
    "f(x) = \\int_{-\\infty}^{\\infty} e^{-x^2} dx\n",
    "$$"
   ]
  },
  {
   "attachments": {},
   "cell_type": "markdown",
   "metadata": {},
   "source": [
    "$$e^{i\\pi} - 1 = 0$$"
   ]
  },
  {
   "attachments": {},
   "cell_type": "markdown",
   "metadata": {},
   "source": [
    "<h1>Kinematics</h1>"
   ]
  },
  {
   "attachments": {},
   "cell_type": "markdown",
   "metadata": {},
   "source": [
    "<h5>Avg and instantaneous quantities</h5>"
   ]
  },
  {
   "attachments": {},
   "cell_type": "markdown",
   "metadata": {},
   "source": [
    "Avg velocity of an object\n",
    "$$\n",
    "\\overline{v} = v_{avg} = \\frac{x(t_2) - x(t_1)}{t_2 - t_1} = \\frac{\\Delta x(t)}{\\Delta t }"
   ]
  },
  {
   "attachments": {},
   "cell_type": "markdown",
   "metadata": {},
   "source": [
    "Avg Acceleration \n",
    "$$ \\overline{a} = a_{avg} = \\frac{v(t_2) - v(t_1)}{t_2 - t_1} = \\frac{\\Delta v(t)}{\\Delta t} $$"
   ]
  },
  {
   "attachments": {},
   "cell_type": "markdown",
   "metadata": {},
   "source": [
    "These are averages, you can image that an obj can have speed value of 20mph at $t_1$ then have value of 180mph at $t_2$ but inbetween these intervals you cannot know its exact speed. To measure its exact speed requires knowledge of its instantaneous (inst,eous) speed and possibiliy it's acc"
   ]
  },
  {
   "attachments": {},
   "cell_type": "markdown",
   "metadata": {},
   "source": [
    "Inst,eous Velocity \n",
    "$$ v(t) = \\lim_{\\Delta t\\to 0} \\frac{\\Delta x}{\\Delta t} = \\frac{dx}{dt} = x_{dt} $$"
   ]
  },
  {
   "attachments": {},
   "cell_type": "markdown",
   "metadata": {},
   "source": [
    "Inst,eous Acc\n",
    "$$ a(t) = \\frac{dv}{dt} = \\frac{d^2x}{dt^2} = v_{dt} = x_{dt^2} $$"
   ]
  },
  {
   "cell_type": "markdown",
   "metadata": {},
   "source": []
  }
 ],
 "metadata": {
  "language_info": {
   "name": "python"
  },
  "orig_nbformat": 4
 },
 "nbformat": 4,
 "nbformat_minor": 2
}
