{
 "cells": [
  {
   "attachments": {},
   "cell_type": "markdown",
   "metadata": {},
   "source": [
    "## 3 Quantization of Charge, Light, and Energy"
   ]
  },
  {
   "attachments": {},
   "cell_type": "markdown",
   "metadata": {},
   "source": [
    "Charge: particles w charge or ionized atoms \n",
    "<br/>Light: em radiation \n",
    "<br/>Energy: mode of interaction "
   ]
  },
  {
   "attachments": {},
   "cell_type": "markdown",
   "metadata": {},
   "source": [
    "### 3-1 Quantization of charge "
   ]
  },
  {
   "attachments": {},
   "cell_type": "markdown",
   "metadata": {},
   "source": [
    "The study of the conduction of electricity in weak-conducting solutions lead to 'Faraday's Law of electrolysis'$$F=N_Ae$$"
   ]
  },
  {
   "attachments": {},
   "cell_type": "markdown",
   "metadata": {},
   "source": [
    "The same qty of electrcity always decomposes 1 gram of ionic material equaling Avogadro's number $N_A$ concluded that each ion released from the material carries the same electric charge $e$. The same value (96,500C) = $N_A \\cdot e$. At the time Avo's num was unknown so determining the value of $e$ is wasn't easy -- now it is b/c we have both $N_A$ and $e$"
   ]
  },
  {
   "attachments": {},
   "cell_type": "markdown",
   "metadata": {},
   "source": [
    "#### Discovering the electron"
   ]
  },
  {
   "attachments": {},
   "cell_type": "markdown",
   "metadata": {},
   "source": [
    "Discovery of atomic particles was made by looking at the charge-to-mass ratio. The ratio was observed by looking at the changes in the discrete spectral lines emitted by atoms when they were placed in a magnetic field -- discrete lines means discrete energy lvls. When a uniform mag field of strength $B$ is est perpendicular 2da direction of motion of a charged particle the particle moves in a tradjectory path. The radius of curvature is obtain from Newton's 2nd law by setting the magnetic force $quB$ equal 2 the mass times the centripetal acc $u^2/R$ where u is the speed of da particle. "
   ]
  },
  {
   "attachments": {},
   "cell_type": "markdown",
   "metadata": {},
   "source": [
    "$$F = ma \\to quB = \\frac{mu^2}{R}\\to R = \\frac{mu}{qB}\\to \\frac{q}{m} = \\frac{u}{RB}$$"
   ]
  },
  {
   "attachments": {},
   "cell_type": "markdown",
   "metadata": {},
   "source": [
    "To obtain the speed of the electron an electric field $E$ is applied $\\perp$ to $B$ so that the particles r undeflected, this allows equating the magnitudes of the magnetic and electric forces to compute the speed. \n",
    "$$F_B = quB$$\n",
    "<br/>and<br/>\n",
    "$$F_E = qE$$"
   ]
  },
  {
   "attachments": {},
   "cell_type": "markdown",
   "metadata": {},
   "source": [
    "$$quB = qE\\to u = \\frac{E}{B}$$\n",
    "</br>Thus "
   ]
  },
  {
   "attachments": {},
   "cell_type": "markdown",
   "metadata": {},
   "source": [
    "$$\\frac{q}{m} = \\frac{E}{RB^2}$$"
   ]
  },
  {
   "attachments": {},
   "cell_type": "markdown",
   "metadata": {},
   "source": [
    "If $E$ and $B$ r kept constant than the ratio follows $\\frac{1}{R}$ for diff mass of particles. Interestingly the ratio never changed regardless of the materials used for the cathodes. "
   ]
  },
  {
   "attachments": {},
   "cell_type": "markdown",
   "metadata": {},
   "source": [
    "#### Measuring the Electric charge"
   ]
  },
  {
   "attachments": {},
   "cell_type": "markdown",
   "metadata": {},
   "source": [
    "the ratio $q/m$ always yeilded the same val regardless of the material used was persuasive arg that the electrons all possesed a single value - quantized. Determing the val was the nxt step. Through a series of test it was measure 2b $$e = -1.6\\times 10^{-19}C$$"
   ]
  },
  {
   "attachments": {},
   "cell_type": "markdown",
   "metadata": {},
   "source": [
    "Finding the val: placing an ionized droplet in a uniform electric field $\\vec{E}$ is subject 2 two forces. The gravitional force and the electrostatic force. $$F = mg$$ <br/> $$F=qE$$"
   ]
  },
  {
   "attachments": {},
   "cell_type": "markdown",
   "metadata": {},
   "source": [
    "$$mg = qE\\to q=\\frac{mg}{E}$$"
   ]
  },
  {
   "attachments": {},
   "cell_type": "markdown",
   "metadata": {},
   "source": [
    "Since m, g , and E are constants then any observed droplet will be a multiple of $e$ \n",
    "$$q = ne$$ \n",
    "<br/> for $n=0, \\pm 1, \\pm 2, \\pm3, ...$"
   ]
  },
  {
   "attachments": {},
   "cell_type": "markdown",
   "metadata": {},
   "source": [
    "### 3-2 Blackbody Radiation "
   ]
  },
  {
   "attachments": {},
   "cell_type": "markdown",
   "metadata": {},
   "source": [
    "The 1st clue of the quantum nature of em radiation came from the study of thermal radiation emitted by black objects. When radiation falled on a black obj it absorbes all the light and the rest is reflected back. Light colored objs reflect most of the light back except 4 specific wavelengths which gives them the color. Thus 4 blk obj da radition is absorbed and inc the kinetic energy of the atoms of the blk obj. The avg $KE$ determines the temp $T$ of da obj. Continuous emittion of radition onto da blk obj inc the temp. "
   ]
  },
  {
   "attachments": {},
   "cell_type": "markdown",
   "metadata": {},
   "source": [
    "The electrons on the atom are accelerated by the oscillation from their ground energy state 2 higher energy lvls. This movement from the electron caused em radition emitted from the atom, reducing the $KE$. But when the rate of absorption equal the rate of emission the $T$ of the blk obj became constant. The blk obj is in thermal equilibrium with its surrounding. "
   ]
  },
  {
   "attachments": {},
   "cell_type": "markdown",
   "metadata": {},
   "source": [
    "Em radiation emitted unser these circumstances is called <i>thermal radiation</i>"
   ]
  },
  {
   "cell_type": "markdown",
   "metadata": {},
   "source": []
  }
 ],
 "metadata": {
  "language_info": {
   "name": "python"
  },
  "orig_nbformat": 4
 },
 "nbformat": 4,
 "nbformat_minor": 2
}
