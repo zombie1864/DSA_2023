{
 "cells": [
  {
   "attachments": {},
   "cell_type": "markdown",
   "metadata": {},
   "source": [
    "## 3 Quantization of Charge, Light, and Energy"
   ]
  },
  {
   "attachments": {},
   "cell_type": "markdown",
   "metadata": {},
   "source": [
    "Charge: particles w charge or ionized atoms \n",
    "<br/>Light: em radiation \n",
    "<br/>Energy: mode of interaction "
   ]
  },
  {
   "attachments": {},
   "cell_type": "markdown",
   "metadata": {},
   "source": [
    "### 3-1 Quantization of charge "
   ]
  },
  {
   "attachments": {},
   "cell_type": "markdown",
   "metadata": {},
   "source": [
    "The study of the conduction of electricity in weak-conducting solutions lead to 'Faraday's Law of electrolysis'$$F=N_Ae$$"
   ]
  },
  {
   "attachments": {},
   "cell_type": "markdown",
   "metadata": {},
   "source": [
    "The same qty of electrcity always decomposes 1 gram of ionic material equaling Avogadro's number $N_A$ concluded that each ion released from the material carries the same electric charge $e$. The same value (96,500C) = $N_A \\cdot e$. At the time Avo's num was unknown so determining the value of $e$ is wasn't easy -- now it is b/c we have both $N_A$ and $e$"
   ]
  },
  {
   "attachments": {},
   "cell_type": "markdown",
   "metadata": {},
   "source": [
    "#### Discovering the electron"
   ]
  },
  {
   "attachments": {},
   "cell_type": "markdown",
   "metadata": {},
   "source": [
    "Discovery of atomic particles was made by looking at the charge-to-mass ratio. The ratio was observed by looking at the changes in the discrete spectral lines emitted by atoms when they were placed in a magnetic field -- discrete lines means discrete energy lvls. When a uniform mag field of strength $B$ is est perpendicular 2da direction of motion of a charged particle the particle moves in a tradjectory path. The radius of curvature is obtain from Newton's 2nd law by setting the magnetic force $quB$ equal 2 the mass times the centripetal acc $u^2/R$ where u is the speed of da particle. "
   ]
  },
  {
   "attachments": {},
   "cell_type": "markdown",
   "metadata": {},
   "source": [
    "$$F = ma \\to quB = \\frac{mu^2}{R}\\to R = \\frac{mu}{qB}\\to \\frac{q}{m} = \\frac{u}{RB}$$"
   ]
  },
  {
   "attachments": {},
   "cell_type": "markdown",
   "metadata": {},
   "source": [
    "To obtain the speed of the electron an electric field $E$ is applied $\\perp$ to $B$ so that the particles r undeflected, this allows equating the magnitudes of the magnetic and electric forces to compute the speed. \n",
    "$$F_B = quB$$\n",
    "<br/>and<br/>\n",
    "$$F_E = qE$$"
   ]
  },
  {
   "attachments": {},
   "cell_type": "markdown",
   "metadata": {},
   "source": [
    "$$quB = qE\\to u = \\frac{E}{B}$$\n",
    "</br>Thus "
   ]
  },
  {
   "attachments": {},
   "cell_type": "markdown",
   "metadata": {},
   "source": [
    "$$\\frac{q}{m} = \\frac{E}{RB^2}$$"
   ]
  },
  {
   "attachments": {},
   "cell_type": "markdown",
   "metadata": {},
   "source": [
    "If $E$ and $B$ r kept constant than the ratio follows $\\frac{1}{R}$ for diff mass of particles"
   ]
  },
  {
   "cell_type": "markdown",
   "metadata": {},
   "source": []
  }
 ],
 "metadata": {
  "language_info": {
   "name": "python"
  },
  "orig_nbformat": 4
 },
 "nbformat": 4,
 "nbformat_minor": 2
}
